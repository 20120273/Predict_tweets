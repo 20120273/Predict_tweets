{
  "cells": [
    {
      "cell_type": "code",
      "execution_count": null,
      "metadata": {
        "colab": {
          "base_uri": "https://localhost:8080/"
        },
        "id": "zX6aksxjma9m",
        "outputId": "9936525b-d6aa-4e96-99c2-6a5f40d5c732"
      },
      "outputs": [
        {
          "output_type": "stream",
          "name": "stdout",
          "text": [
            "Mounted at /content/drive\n"
          ]
        }
      ],
      "source": [
        "from google.colab import drive\n",
        "drive.mount('/content/drive')"
      ]
    },
    {
      "cell_type": "code",
      "execution_count": null,
      "metadata": {
        "colab": {
          "base_uri": "https://localhost:8080/"
        },
        "id": "nfDMQs88umV1",
        "outputId": "7d9239ef-8fd5-42dc-fdc4-f5413d650574"
      },
      "outputs": [
        {
          "output_type": "stream",
          "name": "stdout",
          "text": [
            "--2023-07-01 15:05:55--  https://raw.githubusercontent.com/tensorflow/models/master/official/nlp/tools/tokenization.py\n",
            "Resolving raw.githubusercontent.com (raw.githubusercontent.com)... 185.199.108.133, 185.199.109.133, 185.199.110.133, ...\n",
            "Connecting to raw.githubusercontent.com (raw.githubusercontent.com)|185.199.108.133|:443... connected.\n",
            "HTTP request sent, awaiting response... 200 OK\n",
            "Length: 16591 (16K) [text/plain]\n",
            "Saving to: ‘tokenization.py’\n",
            "\n",
            "tokenization.py     100%[===================>]  16.20K  --.-KB/s    in 0.002s  \n",
            "\n",
            "2023-07-01 15:05:55 (10.4 MB/s) - ‘tokenization.py’ saved [16591/16591]\n",
            "\n"
          ]
        }
      ],
      "source": [
        "!wget https://raw.githubusercontent.com/tensorflow/models/master/official/nlp/tools/tokenization.py"
      ]
    },
    {
      "cell_type": "code",
      "source": [
        "!pip install sentencepiece"
      ],
      "metadata": {
        "id": "61D8LlSSo4JF",
        "colab": {
          "base_uri": "https://localhost:8080/"
        },
        "outputId": "a4fb9eab-9a22-44d8-eb77-dc31d84752e9"
      },
      "execution_count": null,
      "outputs": [
        {
          "output_type": "stream",
          "name": "stdout",
          "text": [
            "Collecting sentencepiece\n",
            "  Downloading sentencepiece-0.1.99-cp310-cp310-manylinux_2_17_x86_64.manylinux2014_x86_64.whl (1.3 MB)\n",
            "\u001b[?25l     \u001b[90m━━━━━━━━━━━━━━━━━━━━━━━━━━━━━━━━━━━━━━━━\u001b[0m \u001b[32m0.0/1.3 MB\u001b[0m \u001b[31m?\u001b[0m eta \u001b[36m-:--:--\u001b[0m\r\u001b[2K     \u001b[90m━━━━━━━━━━━━━━━━━━━━━━━━━━━━━━━━━━━━━━━━\u001b[0m \u001b[32m1.3/1.3 MB\u001b[0m \u001b[31m41.0 MB/s\u001b[0m eta \u001b[36m0:00:00\u001b[0m\n",
            "\u001b[?25hInstalling collected packages: sentencepiece\n",
            "Successfully installed sentencepiece-0.1.99\n"
          ]
        }
      ]
    },
    {
      "cell_type": "markdown",
      "source": [
        "Các thư viện cần thiết"
      ],
      "metadata": {
        "id": "XK5c4qgLooki"
      }
    },
    {
      "cell_type": "code",
      "execution_count": null,
      "metadata": {
        "id": "QEbE2h6BuEjO"
      },
      "outputs": [],
      "source": [
        "import re\n",
        "import string\n",
        "import numpy as np\n",
        "import random\n",
        "import pandas as pd\n",
        "import matplotlib.pyplot as plt\n",
        "import seaborn as sns"
      ]
    },
    {
      "cell_type": "code",
      "execution_count": null,
      "metadata": {
        "id": "_0z4gsQsuftj"
      },
      "outputs": [],
      "source": [
        "from sklearn.model_selection import train_test_split\n",
        "from sklearn.feature_extraction.text import TfidfVectorizer\n",
        "from sklearn.naive_bayes import MultinomialNB\n",
        "from sklearn import metrics\n",
        "\n",
        "import tensorflow as tf\n",
        "from tensorflow.keras.layers import Dense, Input, Dropout\n",
        "from tensorflow.keras.optimizers import Adam,SGD\n",
        "from tensorflow.keras.models import Model\n",
        "from tensorflow.keras import regularizers\n",
        "from tensorflow.keras.callbacks import ModelCheckpoint\n",
        "from tensorflow.keras.utils import to_categorical\n",
        "import tensorflow.keras.backend as K\n",
        "import tensorflow_hub as hub\n",
        "from tokenization import FullTokenizer"
      ]
    },
    {
      "cell_type": "markdown",
      "source": [
        "Ta đọc file vào dataframe"
      ],
      "metadata": {
        "id": "a67txzUGkYWs"
      }
    },
    {
      "cell_type": "code",
      "execution_count": null,
      "metadata": {
        "colab": {
          "base_uri": "https://localhost:8080/",
          "height": 238
        },
        "id": "iPBM8dJ0uhQk",
        "outputId": "7d162977-dcd6-4e89-95d6-ee95a4be1606"
      },
      "outputs": [
        {
          "output_type": "execute_result",
          "data": {
            "text/plain": [
              "   keyword location                                               text  \\\n",
              "id                                                                       \n",
              "1                    Our Deeds are the Reason of this #earthquake M...   \n",
              "4                               Forest fire near La Ronge Sask. Canada   \n",
              "5                    All residents asked to 'shelter in place' are ...   \n",
              "6                    13,000 people receive #wildfires evacuation or...   \n",
              "7                    Just got sent this photo from Ruby #Alaska as ...   \n",
              "\n",
              "    target                                       cleaned_text  \n",
              "id                                                             \n",
              "1        1       deeds reason earthquake may allah forgive us  \n",
              "4        1              forest fire near la ronge sask canada  \n",
              "5        1  residents asked shelter place notified officer...  \n",
              "6        1  people receive wildfires evacuation orders cal...  \n",
              "7        1  got sent photo ruby alaska smoke wildfires pou...  "
            ],
            "text/html": [
              "\n",
              "  <div id=\"df-4ebca02f-06b7-4d98-9041-89a9620d02ae\">\n",
              "    <div class=\"colab-df-container\">\n",
              "      <div>\n",
              "<style scoped>\n",
              "    .dataframe tbody tr th:only-of-type {\n",
              "        vertical-align: middle;\n",
              "    }\n",
              "\n",
              "    .dataframe tbody tr th {\n",
              "        vertical-align: top;\n",
              "    }\n",
              "\n",
              "    .dataframe thead th {\n",
              "        text-align: right;\n",
              "    }\n",
              "</style>\n",
              "<table border=\"1\" class=\"dataframe\">\n",
              "  <thead>\n",
              "    <tr style=\"text-align: right;\">\n",
              "      <th></th>\n",
              "      <th>keyword</th>\n",
              "      <th>location</th>\n",
              "      <th>text</th>\n",
              "      <th>target</th>\n",
              "      <th>cleaned_text</th>\n",
              "    </tr>\n",
              "    <tr>\n",
              "      <th>id</th>\n",
              "      <th></th>\n",
              "      <th></th>\n",
              "      <th></th>\n",
              "      <th></th>\n",
              "      <th></th>\n",
              "    </tr>\n",
              "  </thead>\n",
              "  <tbody>\n",
              "    <tr>\n",
              "      <th>1</th>\n",
              "      <td></td>\n",
              "      <td></td>\n",
              "      <td>Our Deeds are the Reason of this #earthquake M...</td>\n",
              "      <td>1</td>\n",
              "      <td>deeds reason earthquake may allah forgive us</td>\n",
              "    </tr>\n",
              "    <tr>\n",
              "      <th>4</th>\n",
              "      <td></td>\n",
              "      <td></td>\n",
              "      <td>Forest fire near La Ronge Sask. Canada</td>\n",
              "      <td>1</td>\n",
              "      <td>forest fire near la ronge sask canada</td>\n",
              "    </tr>\n",
              "    <tr>\n",
              "      <th>5</th>\n",
              "      <td></td>\n",
              "      <td></td>\n",
              "      <td>All residents asked to 'shelter in place' are ...</td>\n",
              "      <td>1</td>\n",
              "      <td>residents asked shelter place notified officer...</td>\n",
              "    </tr>\n",
              "    <tr>\n",
              "      <th>6</th>\n",
              "      <td></td>\n",
              "      <td></td>\n",
              "      <td>13,000 people receive #wildfires evacuation or...</td>\n",
              "      <td>1</td>\n",
              "      <td>people receive wildfires evacuation orders cal...</td>\n",
              "    </tr>\n",
              "    <tr>\n",
              "      <th>7</th>\n",
              "      <td></td>\n",
              "      <td></td>\n",
              "      <td>Just got sent this photo from Ruby #Alaska as ...</td>\n",
              "      <td>1</td>\n",
              "      <td>got sent photo ruby alaska smoke wildfires pou...</td>\n",
              "    </tr>\n",
              "  </tbody>\n",
              "</table>\n",
              "</div>\n",
              "      <button class=\"colab-df-convert\" onclick=\"convertToInteractive('df-4ebca02f-06b7-4d98-9041-89a9620d02ae')\"\n",
              "              title=\"Convert this dataframe to an interactive table.\"\n",
              "              style=\"display:none;\">\n",
              "        \n",
              "  <svg xmlns=\"http://www.w3.org/2000/svg\" height=\"24px\"viewBox=\"0 0 24 24\"\n",
              "       width=\"24px\">\n",
              "    <path d=\"M0 0h24v24H0V0z\" fill=\"none\"/>\n",
              "    <path d=\"M18.56 5.44l.94 2.06.94-2.06 2.06-.94-2.06-.94-.94-2.06-.94 2.06-2.06.94zm-11 1L8.5 8.5l.94-2.06 2.06-.94-2.06-.94L8.5 2.5l-.94 2.06-2.06.94zm10 10l.94 2.06.94-2.06 2.06-.94-2.06-.94-.94-2.06-.94 2.06-2.06.94z\"/><path d=\"M17.41 7.96l-1.37-1.37c-.4-.4-.92-.59-1.43-.59-.52 0-1.04.2-1.43.59L10.3 9.45l-7.72 7.72c-.78.78-.78 2.05 0 2.83L4 21.41c.39.39.9.59 1.41.59.51 0 1.02-.2 1.41-.59l7.78-7.78 2.81-2.81c.8-.78.8-2.07 0-2.86zM5.41 20L4 18.59l7.72-7.72 1.47 1.35L5.41 20z\"/>\n",
              "  </svg>\n",
              "      </button>\n",
              "      \n",
              "  <style>\n",
              "    .colab-df-container {\n",
              "      display:flex;\n",
              "      flex-wrap:wrap;\n",
              "      gap: 12px;\n",
              "    }\n",
              "\n",
              "    .colab-df-convert {\n",
              "      background-color: #E8F0FE;\n",
              "      border: none;\n",
              "      border-radius: 50%;\n",
              "      cursor: pointer;\n",
              "      display: none;\n",
              "      fill: #1967D2;\n",
              "      height: 32px;\n",
              "      padding: 0 0 0 0;\n",
              "      width: 32px;\n",
              "    }\n",
              "\n",
              "    .colab-df-convert:hover {\n",
              "      background-color: #E2EBFA;\n",
              "      box-shadow: 0px 1px 2px rgba(60, 64, 67, 0.3), 0px 1px 3px 1px rgba(60, 64, 67, 0.15);\n",
              "      fill: #174EA6;\n",
              "    }\n",
              "\n",
              "    [theme=dark] .colab-df-convert {\n",
              "      background-color: #3B4455;\n",
              "      fill: #D2E3FC;\n",
              "    }\n",
              "\n",
              "    [theme=dark] .colab-df-convert:hover {\n",
              "      background-color: #434B5C;\n",
              "      box-shadow: 0px 1px 3px 1px rgba(0, 0, 0, 0.15);\n",
              "      filter: drop-shadow(0px 1px 2px rgba(0, 0, 0, 0.3));\n",
              "      fill: #FFFFFF;\n",
              "    }\n",
              "  </style>\n",
              "\n",
              "      <script>\n",
              "        const buttonEl =\n",
              "          document.querySelector('#df-4ebca02f-06b7-4d98-9041-89a9620d02ae button.colab-df-convert');\n",
              "        buttonEl.style.display =\n",
              "          google.colab.kernel.accessAllowed ? 'block' : 'none';\n",
              "\n",
              "        async function convertToInteractive(key) {\n",
              "          const element = document.querySelector('#df-4ebca02f-06b7-4d98-9041-89a9620d02ae');\n",
              "          const dataTable =\n",
              "            await google.colab.kernel.invokeFunction('convertToInteractive',\n",
              "                                                     [key], {});\n",
              "          if (!dataTable) return;\n",
              "\n",
              "          const docLinkHtml = 'Like what you see? Visit the ' +\n",
              "            '<a target=\"_blank\" href=https://colab.research.google.com/notebooks/data_table.ipynb>data table notebook</a>'\n",
              "            + ' to learn more about interactive tables.';\n",
              "          element.innerHTML = '';\n",
              "          dataTable['output_type'] = 'display_data';\n",
              "          await google.colab.output.renderOutput(dataTable, element);\n",
              "          const docLink = document.createElement('div');\n",
              "          docLink.innerHTML = docLinkHtml;\n",
              "          element.appendChild(docLink);\n",
              "        }\n",
              "      </script>\n",
              "    </div>\n",
              "  </div>\n",
              "  "
            ]
          },
          "metadata": {},
          "execution_count": 6
        }
      ],
      "source": [
        "df_train = pd.read_csv('/content/drive/MyDrive/dataNLP/clean_train.csv',index_col = 0)\n",
        "df_train = df_train.fillna(' ')\n",
        "df_train.head(5)"
      ]
    },
    {
      "cell_type": "code",
      "execution_count": null,
      "metadata": {
        "colab": {
          "base_uri": "https://localhost:8080/",
          "height": 238
        },
        "id": "rG6mgjflm56k",
        "outputId": "60fd1cc0-1088-439c-9e70-bc6c7c8edb1f"
      },
      "outputs": [
        {
          "output_type": "execute_result",
          "data": {
            "text/plain": [
              "   keyword location                                               text  \\\n",
              "id                                                                       \n",
              "0                                   Just happened a terrible car crash   \n",
              "2                    Heard about #earthquake is different cities, s...   \n",
              "3                    there is a forest fire at spot pond, geese are...   \n",
              "9                             Apocalypse lighting. #Spokane #wildfires   \n",
              "11                       Typhoon Soudelor kills 28 in China and Taiwan   \n",
              "\n",
              "                                         cleaned_text  \n",
              "id                                                     \n",
              "0                         happened terrible car crash  \n",
              "2   heard earthquake different cities stay safe ev...  \n",
              "3   forest fire spot pond geese fleeing across str...  \n",
              "9               apocalypse lighting spokane wildfires  \n",
              "11                typhoon soudelor kills china taiwan  "
            ],
            "text/html": [
              "\n",
              "  <div id=\"df-ac7ab3dd-e858-4f21-8c86-6ed5967cba00\">\n",
              "    <div class=\"colab-df-container\">\n",
              "      <div>\n",
              "<style scoped>\n",
              "    .dataframe tbody tr th:only-of-type {\n",
              "        vertical-align: middle;\n",
              "    }\n",
              "\n",
              "    .dataframe tbody tr th {\n",
              "        vertical-align: top;\n",
              "    }\n",
              "\n",
              "    .dataframe thead th {\n",
              "        text-align: right;\n",
              "    }\n",
              "</style>\n",
              "<table border=\"1\" class=\"dataframe\">\n",
              "  <thead>\n",
              "    <tr style=\"text-align: right;\">\n",
              "      <th></th>\n",
              "      <th>keyword</th>\n",
              "      <th>location</th>\n",
              "      <th>text</th>\n",
              "      <th>cleaned_text</th>\n",
              "    </tr>\n",
              "    <tr>\n",
              "      <th>id</th>\n",
              "      <th></th>\n",
              "      <th></th>\n",
              "      <th></th>\n",
              "      <th></th>\n",
              "    </tr>\n",
              "  </thead>\n",
              "  <tbody>\n",
              "    <tr>\n",
              "      <th>0</th>\n",
              "      <td></td>\n",
              "      <td></td>\n",
              "      <td>Just happened a terrible car crash</td>\n",
              "      <td>happened terrible car crash</td>\n",
              "    </tr>\n",
              "    <tr>\n",
              "      <th>2</th>\n",
              "      <td></td>\n",
              "      <td></td>\n",
              "      <td>Heard about #earthquake is different cities, s...</td>\n",
              "      <td>heard earthquake different cities stay safe ev...</td>\n",
              "    </tr>\n",
              "    <tr>\n",
              "      <th>3</th>\n",
              "      <td></td>\n",
              "      <td></td>\n",
              "      <td>there is a forest fire at spot pond, geese are...</td>\n",
              "      <td>forest fire spot pond geese fleeing across str...</td>\n",
              "    </tr>\n",
              "    <tr>\n",
              "      <th>9</th>\n",
              "      <td></td>\n",
              "      <td></td>\n",
              "      <td>Apocalypse lighting. #Spokane #wildfires</td>\n",
              "      <td>apocalypse lighting spokane wildfires</td>\n",
              "    </tr>\n",
              "    <tr>\n",
              "      <th>11</th>\n",
              "      <td></td>\n",
              "      <td></td>\n",
              "      <td>Typhoon Soudelor kills 28 in China and Taiwan</td>\n",
              "      <td>typhoon soudelor kills china taiwan</td>\n",
              "    </tr>\n",
              "  </tbody>\n",
              "</table>\n",
              "</div>\n",
              "      <button class=\"colab-df-convert\" onclick=\"convertToInteractive('df-ac7ab3dd-e858-4f21-8c86-6ed5967cba00')\"\n",
              "              title=\"Convert this dataframe to an interactive table.\"\n",
              "              style=\"display:none;\">\n",
              "        \n",
              "  <svg xmlns=\"http://www.w3.org/2000/svg\" height=\"24px\"viewBox=\"0 0 24 24\"\n",
              "       width=\"24px\">\n",
              "    <path d=\"M0 0h24v24H0V0z\" fill=\"none\"/>\n",
              "    <path d=\"M18.56 5.44l.94 2.06.94-2.06 2.06-.94-2.06-.94-.94-2.06-.94 2.06-2.06.94zm-11 1L8.5 8.5l.94-2.06 2.06-.94-2.06-.94L8.5 2.5l-.94 2.06-2.06.94zm10 10l.94 2.06.94-2.06 2.06-.94-2.06-.94-.94-2.06-.94 2.06-2.06.94z\"/><path d=\"M17.41 7.96l-1.37-1.37c-.4-.4-.92-.59-1.43-.59-.52 0-1.04.2-1.43.59L10.3 9.45l-7.72 7.72c-.78.78-.78 2.05 0 2.83L4 21.41c.39.39.9.59 1.41.59.51 0 1.02-.2 1.41-.59l7.78-7.78 2.81-2.81c.8-.78.8-2.07 0-2.86zM5.41 20L4 18.59l7.72-7.72 1.47 1.35L5.41 20z\"/>\n",
              "  </svg>\n",
              "      </button>\n",
              "      \n",
              "  <style>\n",
              "    .colab-df-container {\n",
              "      display:flex;\n",
              "      flex-wrap:wrap;\n",
              "      gap: 12px;\n",
              "    }\n",
              "\n",
              "    .colab-df-convert {\n",
              "      background-color: #E8F0FE;\n",
              "      border: none;\n",
              "      border-radius: 50%;\n",
              "      cursor: pointer;\n",
              "      display: none;\n",
              "      fill: #1967D2;\n",
              "      height: 32px;\n",
              "      padding: 0 0 0 0;\n",
              "      width: 32px;\n",
              "    }\n",
              "\n",
              "    .colab-df-convert:hover {\n",
              "      background-color: #E2EBFA;\n",
              "      box-shadow: 0px 1px 2px rgba(60, 64, 67, 0.3), 0px 1px 3px 1px rgba(60, 64, 67, 0.15);\n",
              "      fill: #174EA6;\n",
              "    }\n",
              "\n",
              "    [theme=dark] .colab-df-convert {\n",
              "      background-color: #3B4455;\n",
              "      fill: #D2E3FC;\n",
              "    }\n",
              "\n",
              "    [theme=dark] .colab-df-convert:hover {\n",
              "      background-color: #434B5C;\n",
              "      box-shadow: 0px 1px 3px 1px rgba(0, 0, 0, 0.15);\n",
              "      filter: drop-shadow(0px 1px 2px rgba(0, 0, 0, 0.3));\n",
              "      fill: #FFFFFF;\n",
              "    }\n",
              "  </style>\n",
              "\n",
              "      <script>\n",
              "        const buttonEl =\n",
              "          document.querySelector('#df-ac7ab3dd-e858-4f21-8c86-6ed5967cba00 button.colab-df-convert');\n",
              "        buttonEl.style.display =\n",
              "          google.colab.kernel.accessAllowed ? 'block' : 'none';\n",
              "\n",
              "        async function convertToInteractive(key) {\n",
              "          const element = document.querySelector('#df-ac7ab3dd-e858-4f21-8c86-6ed5967cba00');\n",
              "          const dataTable =\n",
              "            await google.colab.kernel.invokeFunction('convertToInteractive',\n",
              "                                                     [key], {});\n",
              "          if (!dataTable) return;\n",
              "\n",
              "          const docLinkHtml = 'Like what you see? Visit the ' +\n",
              "            '<a target=\"_blank\" href=https://colab.research.google.com/notebooks/data_table.ipynb>data table notebook</a>'\n",
              "            + ' to learn more about interactive tables.';\n",
              "          element.innerHTML = '';\n",
              "          dataTable['output_type'] = 'display_data';\n",
              "          await google.colab.output.renderOutput(dataTable, element);\n",
              "          const docLink = document.createElement('div');\n",
              "          docLink.innerHTML = docLinkHtml;\n",
              "          element.appendChild(docLink);\n",
              "        }\n",
              "      </script>\n",
              "    </div>\n",
              "  </div>\n",
              "  "
            ]
          },
          "metadata": {},
          "execution_count": 7
        }
      ],
      "source": [
        "df_test = pd.read_csv('/content/drive/MyDrive/dataNLP/clean_test.csv',index_col = 0)\n",
        "df_test = df_test.fillna(' ')\n",
        "df_test.head(5)"
      ]
    },
    {
      "cell_type": "markdown",
      "source": [
        "Ta lưu các thuộc tính vào các biến để tiện xử lý"
      ],
      "metadata": {
        "id": "TPpQWX6Okd7W"
      }
    },
    {
      "cell_type": "code",
      "execution_count": null,
      "metadata": {
        "id": "9XA_ZaWinB2o"
      },
      "outputs": [],
      "source": [
        "x_train = df_train['cleaned_text'].values\n",
        "y_train = df_train['target'].values\n",
        "\n",
        "x_test = df_test['cleaned_text'].values"
      ]
    },
    {
      "cell_type": "markdown",
      "metadata": {
        "id": "2AW4n98QOTHQ"
      },
      "source": [
        "# 1. Naïve Bayes Classification (NBC)"
      ]
    },
    {
      "cell_type": "markdown",
      "metadata": {
        "id": "hh8wYwPCR2Hg"
      },
      "source": [
        "Naïve  Bayes Classification (NBC) là một thuật toán phân loại dựa trên tính toán xác suất áp dụng định lý Bayes. Thuật toán này thuộc nhóm Supervised Learning (Học có giám sát)."
      ]
    },
    {
      "cell_type": "markdown",
      "metadata": {
        "id": "BqCevmDROnjV"
      },
      "source": [
        "### Tạo đặc trưng và chuẩn bị dữ liệu:\n",
        "Sử dụng TF-IDF (Term Frequency - Inverse Document Frequency ) để tạo đặc trưng cho dữ liệu để áp dụng vào mô hình NBC. TF-IDF được sử dụng để đại diện cho các văn bản dựa trên tần suất xuất hiện của các từ trong văn bản và toàn bộ tập dữ liệu.\n",
        "\n",
        "Sau khi sử dụng thì dữ liệu dạng text ban đầu sẽ chuyển đổi thành ma trận term frequency-inverse document frequency (TF-IDF matrix)."
      ]
    },
    {
      "cell_type": "code",
      "execution_count": null,
      "metadata": {
        "id": "GTfpiLZUObzE"
      },
      "outputs": [],
      "source": [
        "vectorizer = TfidfVectorizer()\n",
        "vectorizer.fit(x_train)\n",
        "x_train_vec = vectorizer.transform(x_train)"
      ]
    },
    {
      "cell_type": "markdown",
      "metadata": {
        "id": "Lxn0j_eESw7y"
      },
      "source": [
        "Chia tập dữ liệu thành 2 tập train và test"
      ]
    },
    {
      "cell_type": "code",
      "execution_count": null,
      "metadata": {
        "id": "NinUVJY2ObwT"
      },
      "outputs": [],
      "source": [
        "X_train_NB, X_test_NB, y_train_NB, y_test_NB = train_test_split(x_train_vec, y_train,  test_size = 0.2)"
      ]
    },
    {
      "cell_type": "markdown",
      "metadata": {
        "id": "LZOuI5hfS7wa"
      },
      "source": [
        "### Huấn luyện và đánh giá dữ liệu trên tập train và test đã chuẩn bị\n",
        "Dùng mô hình Naive Bayes Classification để phân lớp nhị phân dữ liệu với dữ liệu đầu vào ma trận TD-IDF đã được tạo ở trên. Sau đó dùng mô hình đã huấn luyện được để áp dụng cho dữ liệu test. Từ đó có những đánh giá tổng quan hơn"
      ]
    },
    {
      "cell_type": "code",
      "execution_count": null,
      "metadata": {
        "id": "b2FnyySeObtD"
      },
      "outputs": [],
      "source": [
        "clf = MultinomialNB().fit(X_train_NB,y_train_NB)\n",
        "predicted = clf.predict(X_test_NB)"
      ]
    },
    {
      "cell_type": "markdown",
      "metadata": {
        "id": "USgfL74nTQXT"
      },
      "source": [
        "Hàm đánh giá mô hình gồm các độ đo là Accuracy, Precision, Recall và Confusion matrix"
      ]
    },
    {
      "cell_type": "code",
      "execution_count": null,
      "metadata": {
        "id": "SnJquQ0rQAko"
      },
      "outputs": [],
      "source": [
        "def eval(y, y_pre):\n",
        "  print('\\n Accuracy:',metrics.accuracy_score(y, y_pre))\n",
        "  print('\\n Confusion matrix: ')\n",
        "  print(metrics.confusion_matrix(y, y_pre))\n",
        "  print('\\n Precision:', metrics.precision_score(y, y_pre))\n",
        "  print('\\n Recall:', metrics.recall_score(y, y_pre))"
      ]
    },
    {
      "cell_type": "markdown",
      "metadata": {
        "id": "vFthncVzTeJF"
      },
      "source": [
        "Đánh giá trên dữ liệu đã dự đoán"
      ]
    },
    {
      "cell_type": "code",
      "execution_count": null,
      "metadata": {
        "colab": {
          "base_uri": "https://localhost:8080/"
        },
        "id": "BqDRupAxObjw",
        "outputId": "a149a98f-603c-4028-85c6-d5279f6fd260"
      },
      "outputs": [
        {
          "output_type": "stream",
          "name": "stdout",
          "text": [
            "\n",
            " Accuracy: 0.8095863427445831\n",
            "\n",
            " Confusion matrix: \n",
            "[[779  85]\n",
            " [205 454]]\n",
            "\n",
            " Precision: 0.8423005565862709\n",
            "\n",
            " Recall: 0.6889226100151745\n"
          ]
        }
      ],
      "source": [
        "eval(y_test_NB, predicted)"
      ]
    },
    {
      "cell_type": "markdown",
      "metadata": {
        "id": "wOfZOaVJT-RG"
      },
      "source": [
        "Mô hình của bạn có Accuracy tương đối cao và Precision cũng khá tốt. Tuy nhiên, Recall chưa cao. Mô hình còn chưa hoạt động tốt khi còn bỏ xót nhiều nhãn positive."
      ]
    },
    {
      "cell_type": "markdown",
      "metadata": {
        "id": "43gbTQIoTmPM"
      },
      "source": [
        "### Áp dụng mô hình cho tập test và xuất file nộp lên Kaggle"
      ]
    },
    {
      "cell_type": "markdown",
      "source": [
        "Đọc file submission mẫu. Sau đó tạo đặc trưng cho dữ liệu test và áp dụng mô hình đã huấn luyện vào."
      ],
      "metadata": {
        "id": "cjfpX8kDzFFM"
      }
    },
    {
      "cell_type": "code",
      "execution_count": null,
      "metadata": {
        "id": "zMjC2aN5Q-nu"
      },
      "outputs": [],
      "source": [
        "df_sub_NB = pd.read_csv('/content/drive/MyDrive/dataNLP/sample_submission.csv')"
      ]
    },
    {
      "cell_type": "code",
      "execution_count": null,
      "metadata": {
        "id": "PdnoURsRQ_LD"
      },
      "outputs": [],
      "source": [
        "X_sub = vectorizer.transform(x_test)\n",
        "df_sub_NB['target'] = clf.predict(X_sub)"
      ]
    },
    {
      "cell_type": "code",
      "execution_count": null,
      "metadata": {
        "id": "9VGcJ1Z3Q-_g"
      },
      "outputs": [],
      "source": [
        "df_sub_NB.to_csv(\"/content/drive/MyDrive/dataNLP/NB_submission.csv\", index=False, header=True)"
      ]
    },
    {
      "cell_type": "markdown",
      "source": [
        "#### Nhận xét và hướng phát triển"
      ],
      "metadata": {
        "id": "bQ85QZvDNPEJ"
      }
    },
    {
      "cell_type": "markdown",
      "source": [
        "- Sau khi nộp *NB_submission.csv* lên Kaggle thì được Score 0,798 không quá cao. Nhưng mô hình cũng đã cho thấy kết quả khá tốt trên tập test của Kaggle.\n",
        "- Để cải thiện mô hình, ta cải thiện việc xử lý dữ liệu, mở rộng từ vựng,... Ngoài ra ta có thể tinh chỉnh các tham số của mô hình như confidence level hay các giả định khác để có thể tăng thêm độ chính xác cho mô hình.\n",
        "- Ngoài ra, ta có thể sử dụng các mô hình phân loại khác để tìm ra mô hình phù hợp hơn.\n",
        "\n"
      ],
      "metadata": {
        "id": "u_rniUNYzRju"
      }
    },
    {
      "cell_type": "markdown",
      "metadata": {
        "id": "jU324q6jOYoP"
      },
      "source": [
        "# 2. BERT"
      ]
    },
    {
      "cell_type": "markdown",
      "source": [
        "BERT là viết tắt của \"Bidirectional Encoder Representations from Transformers\". Đây là một mô hình ngôn ngữ dựa trên kiến trúc Transformer và được giới thiệu bởi nhóm nghiên cứu của Google AI vào năm 2018."
      ],
      "metadata": {
        "id": "urYmtP3BqFVw"
      }
    },
    {
      "cell_type": "markdown",
      "source": [
        "BERT sử dụng kiến trúc Transformer để xử lý các chuỗi đầu vào và học cách biểu diễn các từ và câu trong ngữ cảnh của chúng. Điểm đặc biệt của BERT là nó sử dụng quá trình \"bidirectional training\", tức là mô hình được huấn luyện để hiểu cả ngữ cảnh trước và sau của một từ trong câu. Điều này giúp BERT hiểu được ngữ nghĩa của từ dựa trên ngữ cảnh xung quanh."
      ],
      "metadata": {
        "id": "RPermvR2qGsl"
      }
    },
    {
      "cell_type": "markdown",
      "source": [
        "Vì đã có nhiều model BERT được xây dựng ở trên mạng nên nhóm em sẽ down về và thực hiện fine-tuning đối với bộ dữ liệu này"
      ],
      "metadata": {
        "id": "W3yvqe_6qfVB"
      }
    },
    {
      "cell_type": "markdown",
      "source": [
        "BERT hiện có 2 kiến trúc:\n",
        "  - BERT Base: 12 layers (transformer blocks), 12 attention heads, và 110 triệu parameters (tụi em sẽ dùng cái này để tiết kiệm tài nguyên.\n",
        "  - BERT Large: 24 layers (transformer blocks), 16 attention heads và, 340 triệu parameters"
      ],
      "metadata": {
        "id": "4_kHuaXUqiOj"
      }
    },
    {
      "cell_type": "markdown",
      "source": [
        "### Tạo đặc trưng cho mô hình"
      ],
      "metadata": {
        "id": "RWBGT5wVq2VJ"
      }
    },
    {
      "cell_type": "markdown",
      "source": [
        "Mô hình BERT sẽ nhận vào 3 thành phần đầu vào là:\n",
        "   - input_word_ids:  Đây là một chuỗi các số nguyên, biểu diễn mã hóa các từ trong câu hoặc cặp câu.\n",
        "   - input_mask: giá trị 1 ở vị trí tương ứng trong input_mask cho biết từ tại vị trí đó là một từ thực sự, trong khi giá trị 0 thì là từ đệm.\n",
        "   - segment_ids: được sử dụng để phân biệt các từ thuộc về câu đầu tiên và câu thứ hai, tuy nhiên vì ta chỉ input vào một câu nên ta không cần phân biệt (để giá trị 0)."
      ],
      "metadata": {
        "id": "5YF8E2L-q94d"
      }
    },
    {
      "cell_type": "markdown",
      "source": [
        "Hàm bert_encode giúp ta chuyển đổi một câu text sang 3 thành phần này để input vào BERT"
      ],
      "metadata": {
        "id": "nxptargtsn5r"
      }
    },
    {
      "cell_type": "code",
      "execution_count": null,
      "metadata": {
        "id": "JtvmuTkDwPoa"
      },
      "outputs": [],
      "source": [
        "def bert_encode(texts, tokenizer, max_len=512):\n",
        "    all_tokens = []\n",
        "    all_masks = []\n",
        "    all_segments = []\n",
        "\n",
        "    for text in texts:\n",
        "        text = tokenizer.tokenize(text)\n",
        "\n",
        "        text = text[:max_len-2]\n",
        "        input_sequence = [\"[CLS]\"] + text + [\"[SEP]\"]\n",
        "        pad_len = max_len - len(input_sequence)\n",
        "\n",
        "        tokens = tokenizer.convert_tokens_to_ids(input_sequence)\n",
        "        tokens += [0] * pad_len\n",
        "        pad_masks = [1] * len(input_sequence) + [0] * pad_len\n",
        "        segment_ids = [0] * max_len\n",
        "\n",
        "        all_tokens.append(tokens)\n",
        "        all_masks.append(pad_masks)\n",
        "        all_segments.append(segment_ids)\n",
        "\n",
        "    return np.array(all_tokens), np.array(all_masks), np.array(all_segments)"
      ]
    },
    {
      "cell_type": "markdown",
      "source": [
        "### Xây dựng mô hình"
      ],
      "metadata": {
        "id": "8nd5IoUFsxB7"
      }
    },
    {
      "cell_type": "markdown",
      "source": [
        "Ta sẽ thêm một lớp output có activation là sigmoid để phù hợp cho bài toán"
      ],
      "metadata": {
        "id": "w06nw72Vs-DQ"
      }
    },
    {
      "cell_type": "code",
      "execution_count": null,
      "metadata": {
        "id": "GRkMqT1_w44f"
      },
      "outputs": [],
      "source": [
        "def build_model(bert_layer, max_len=512,Dropout_num = 0):\n",
        "    input_word_ids = Input(shape=(max_len,), dtype=tf.int32, name=\"input_word_ids\")\n",
        "    input_mask = Input(shape=(max_len,), dtype=tf.int32, name=\"input_mask\")\n",
        "    segment_ids = Input(shape=(max_len,), dtype=tf.int32, name=\"segment_ids\")\n",
        "\n",
        "    _, sequence_output = bert_layer([input_word_ids, input_mask, segment_ids])\n",
        "    clf_output = sequence_output[:, 0, :]\n",
        "\n",
        "    if Dropout_num == 0:\n",
        "\n",
        "        out = Dense(1, activation='sigmoid')(clf_output)\n",
        "    else:\n",
        "\n",
        "        x = Dropout(Dropout_num)(clf_output)\n",
        "        out = Dense(1, activation='sigmoid')(x)\n",
        "\n",
        "    model = Model(inputs=[input_word_ids, input_mask, segment_ids], outputs=out)\n",
        "    optimizer = Adam(learning_rate=1e-5)\n",
        "    model.compile(loss='binary_crossentropy', optimizer=optimizer, metrics=['accuracy'])\n",
        "    return model\n"
      ]
    },
    {
      "cell_type": "markdown",
      "source": [
        "Load model đã được train từ trước từ tfhub"
      ],
      "metadata": {
        "id": "dxEXqJZrtFLf"
      }
    },
    {
      "cell_type": "code",
      "execution_count": null,
      "metadata": {
        "id": "ldmjbPwfw7-l",
        "colab": {
          "base_uri": "https://localhost:8080/"
        },
        "outputId": "24768c1e-eff9-41ec-c198-16a2c7ebfd14"
      },
      "outputs": [
        {
          "output_type": "stream",
          "name": "stdout",
          "text": [
            "CPU times: user 9.32 s, sys: 2.79 s, total: 12.1 s\n",
            "Wall time: 30.1 s\n"
          ]
        }
      ],
      "source": [
        "%%time\n",
        "\n",
        "bert_layer = hub.KerasLayer(\"https://tfhub.dev/tensorflow/bert_en_uncased_L-12_H-768_A-12/1\", trainable=True)"
      ]
    },
    {
      "cell_type": "code",
      "execution_count": null,
      "metadata": {
        "id": "ZDFczNTCxCcD"
      },
      "outputs": [],
      "source": [
        "vocab_file = bert_layer.resolved_object.vocab_file.asset_path.numpy()\n",
        "do_lower_case = bert_layer.resolved_object.do_lower_case.numpy()\n",
        "tokenizer = FullTokenizer(vocab_file, do_lower_case)"
      ]
    },
    {
      "cell_type": "markdown",
      "source": [
        "Ta mã hoá tập train qua hàm bert_encode để đưa vào model"
      ],
      "metadata": {
        "id": "i_y-DQh09r06"
      }
    },
    {
      "cell_type": "code",
      "source": [
        "train_input = bert_encode(x_train, tokenizer, max_len=160)\n",
        "train_labels = y_train"
      ],
      "metadata": {
        "id": "I5-DbPKq9paa"
      },
      "execution_count": null,
      "outputs": []
    },
    {
      "cell_type": "code",
      "execution_count": null,
      "metadata": {
        "id": "8gogHXbNyaQ4",
        "colab": {
          "base_uri": "https://localhost:8080/"
        },
        "outputId": "f4cc2d77-8cc7-4837-9838-c43dc06774d0"
      },
      "outputs": [
        {
          "output_type": "stream",
          "name": "stdout",
          "text": [
            "Model: \"model\"\n",
            "__________________________________________________________________________________________________\n",
            " Layer (type)                   Output Shape         Param #     Connected to                     \n",
            "==================================================================================================\n",
            " input_word_ids (InputLayer)    [(None, 160)]        0           []                               \n",
            "                                                                                                  \n",
            " input_mask (InputLayer)        [(None, 160)]        0           []                               \n",
            "                                                                                                  \n",
            " segment_ids (InputLayer)       [(None, 160)]        0           []                               \n",
            "                                                                                                  \n",
            " keras_layer (KerasLayer)       [(None, 768),        109482241   ['input_word_ids[0][0]',         \n",
            "                                 (None, 160, 768)]                'input_mask[0][0]',             \n",
            "                                                                  'segment_ids[0][0]']            \n",
            "                                                                                                  \n",
            " tf.__operators__.getitem (Slic  (None, 768)         0           ['keras_layer[0][1]']            \n",
            " ingOpLambda)                                                                                     \n",
            "                                                                                                  \n",
            " dense (Dense)                  (None, 1)            769         ['tf.__operators__.getitem[0][0]'\n",
            "                                                                 ]                                \n",
            "                                                                                                  \n",
            "==================================================================================================\n",
            "Total params: 109,483,010\n",
            "Trainable params: 109,483,009\n",
            "Non-trainable params: 1\n",
            "__________________________________________________________________________________________________\n"
          ]
        }
      ],
      "source": [
        "model = build_model(bert_layer, max_len=160)\n",
        "model.summary()"
      ]
    },
    {
      "cell_type": "markdown",
      "source": [
        "Thông qua checkpoint, ta sẽ lưu mô hình có trọng số tốt nhất thông qua quá trình train, vì có thể quá trình train có hiện tượng overfit dẫn đến càng train thì giá trị val_loss càng tăng. Nên ta sẽ lưu trọng số của mô hình có giá trị val nhỏ nhất"
      ],
      "metadata": {
        "id": "w89nLvBXK9x4"
      }
    },
    {
      "cell_type": "code",
      "execution_count": null,
      "metadata": {
        "id": "hoTwlTA-yrJk",
        "colab": {
          "base_uri": "https://localhost:8080/"
        },
        "outputId": "784ec79a-2bc5-49c1-f90a-c05d8f6e1f65"
      },
      "outputs": [
        {
          "output_type": "stream",
          "name": "stdout",
          "text": [
            "Epoch 1/3\n",
            "381/381 [==============================] - 275s 578ms/step - loss: 0.4466 - accuracy: 0.8026 - val_loss: 0.4119 - val_accuracy: 0.8102\n",
            "Epoch 2/3\n",
            "381/381 [==============================] - 214s 563ms/step - loss: 0.2887 - accuracy: 0.8877 - val_loss: 0.4383 - val_accuracy: 0.8056\n",
            "Epoch 3/3\n",
            "381/381 [==============================] - 214s 562ms/step - loss: 0.1412 - accuracy: 0.9458 - val_loss: 0.4943 - val_accuracy: 0.8129\n"
          ]
        }
      ],
      "source": [
        "checkpoint = ModelCheckpoint('model.h5', monitor='val_loss', save_best_only=True)\n",
        "\n",
        "train_history = model.fit(\n",
        "    train_input, train_labels,\n",
        "    validation_split=0.2,\n",
        "    epochs=3,\n",
        "    callbacks=[checkpoint],\n",
        "    batch_size=16\n",
        ")"
      ]
    },
    {
      "cell_type": "code",
      "execution_count": null,
      "metadata": {
        "id": "xoRO2e_5lSfa",
        "colab": {
          "base_uri": "https://localhost:8080/",
          "height": 363
        },
        "outputId": "72d8a658-e002-47ed-9bfc-80f267536c76"
      },
      "outputs": [
        {
          "output_type": "display_data",
          "data": {
            "text/plain": [
              "<Figure size 1200x800 with 2 Axes>"
            ],
            "image/png": "[encoded data removed]"
          },
          "metadata": {}
        }
      ],
      "source": [
        "def plot_learning_evolution(r):\n",
        "    plt.figure(figsize=(12, 8))\n",
        "\n",
        "    plt.subplot(2, 2, 1)\n",
        "    plt.plot(r.history['loss'], label='Loss')\n",
        "    plt.plot(r.history['val_loss'], label='val_Loss')\n",
        "    plt.title('Loss evolution during trainig')\n",
        "    plt.legend()\n",
        "\n",
        "    plt.subplot(2, 2, 2)\n",
        "    plt.plot(r.history['accuracy'], label='accuracy')\n",
        "    plt.plot(r.history['val_accuracy'], label='val_accuracy')\n",
        "    plt.title('Accuracy score evolution during trainig')\n",
        "    plt.legend()\n",
        "\n",
        "plot_learning_evolution(train_history)"
      ]
    },
    {
      "cell_type": "code",
      "source": [
        "y_pre = model.predict(train_input)\n",
        "y_pre = y_pre.round().astype('int')"
      ],
      "metadata": {
        "id": "G5Z9Kbqxgp8m",
        "colab": {
          "base_uri": "https://localhost:8080/"
        },
        "outputId": "ca9e8d07-5756-489f-d8ab-a45e1f2a7d18"
      },
      "execution_count": null,
      "outputs": [
        {
          "output_type": "stream",
          "name": "stdout",
          "text": [
            "238/238 [==============================] - 93s 388ms/step\n"
          ]
        }
      ]
    },
    {
      "cell_type": "code",
      "source": [
        "eval(train_labels, y_pre)"
      ],
      "metadata": {
        "id": "ElsRR9pXc4y-",
        "colab": {
          "base_uri": "https://localhost:8080/"
        },
        "outputId": "966b8797-e2b0-4714-a346-e74a7b2bc756"
      },
      "execution_count": null,
      "outputs": [
        {
          "output_type": "stream",
          "name": "stdout",
          "text": [
            "\n",
            " Accuracy: 0.9440430841980822\n",
            "\n",
            " Confusion matrix: \n",
            "[[4188  154]\n",
            " [ 272 2999]]\n",
            "\n",
            " Precision: 0.9511576276562005\n",
            "\n",
            " Recall: 0.9168450015285845\n"
          ]
        }
      ]
    },
    {
      "cell_type": "markdown",
      "source": [
        "Ta thấy các giá trị đo đều ở mức khá ổn với:\n",
        " - Accuracy: 0.94\n",
        " - Precision: 0.95\n",
        " - Recall: 0.91\n",
        "\n",
        " Tuy độ chính xác vẫn chưa cao nhưng nhìn chung không có độ lệch quá lớn giữa 3 độ đo này."
      ],
      "metadata": {
        "id": "yvJySNVJiYx5"
      }
    },
    {
      "cell_type": "markdown",
      "source": [
        "Ta sẽ xử lý tập test và đưa ra dự đoán với tập này"
      ],
      "metadata": {
        "id": "kcKELgpxuM0z"
      }
    },
    {
      "cell_type": "markdown",
      "source": [
        "Tokenize tập test"
      ],
      "metadata": {
        "id": "UYk3Fq8VuSMv"
      }
    },
    {
      "cell_type": "code",
      "execution_count": null,
      "metadata": {
        "id": "EbKacPSGlt8F"
      },
      "outputs": [],
      "source": [
        "test_input = bert_encode(x_test, tokenizer, max_len=160)"
      ]
    },
    {
      "cell_type": "markdown",
      "source": [
        "Load model đã train tốt nhất của ta ở trước để đưa ra dự đoán"
      ],
      "metadata": {
        "id": "HfG8BiTouVjv"
      }
    },
    {
      "cell_type": "code",
      "execution_count": null,
      "metadata": {
        "id": "dUevixx8lViI",
        "colab": {
          "base_uri": "https://localhost:8080/"
        },
        "outputId": "77098c46-cf1e-444d-a76d-5359d886607a"
      },
      "outputs": [
        {
          "output_type": "stream",
          "name": "stdout",
          "text": [
            "102/102 [==============================] - 40s 398ms/step\n"
          ]
        }
      ],
      "source": [
        "model.load_weights('model.h5')\n",
        "test_pred = model.predict(test_input)\n",
        "test_pred = test_pred.round().astype('int')"
      ]
    },
    {
      "cell_type": "markdown",
      "source": [
        "Ta mở file submission để ghi kết quả dự đoán"
      ],
      "metadata": {
        "id": "rHepPDo-udUW"
      }
    },
    {
      "cell_type": "code",
      "execution_count": null,
      "metadata": {
        "id": "YI3jHndilYnQ"
      },
      "outputs": [],
      "source": [
        "df_sub = pd.read_csv('/content/drive/MyDrive/dataNLP/sample_submission.csv')"
      ]
    },
    {
      "cell_type": "code",
      "execution_count": null,
      "metadata": {
        "id": "AAyW1jihlgmN",
        "colab": {
          "base_uri": "https://localhost:8080/",
          "height": 363
        },
        "outputId": "7f6d324b-0fb8-4b85-fb7c-cd39c88c8ff8"
      },
      "outputs": [
        {
          "output_type": "execute_result",
          "data": {
            "text/plain": [
              "   id  target\n",
              "0   0       1\n",
              "1   2       1\n",
              "2   3       1\n",
              "3   9       1\n",
              "4  11       1\n",
              "5  12       1\n",
              "6  21       0\n",
              "7  22       0\n",
              "8  27       0\n",
              "9  29       0"
            ],
            "text/html": [
              "\n",
              "  <div id=\"df-5af8e92c-9b90-4d8c-8b56-8482c90876bc\">\n",
              "    <div class=\"colab-df-container\">\n",
              "      <div>\n",
              "<style scoped>\n",
              "    .dataframe tbody tr th:only-of-type {\n",
              "        vertical-align: middle;\n",
              "    }\n",
              "\n",
              "    .dataframe tbody tr th {\n",
              "        vertical-align: top;\n",
              "    }\n",
              "\n",
              "    .dataframe thead th {\n",
              "        text-align: right;\n",
              "    }\n",
              "</style>\n",
              "<table border=\"1\" class=\"dataframe\">\n",
              "  <thead>\n",
              "    <tr style=\"text-align: right;\">\n",
              "      <th></th>\n",
              "      <th>id</th>\n",
              "      <th>target</th>\n",
              "    </tr>\n",
              "  </thead>\n",
              "  <tbody>\n",
              "    <tr>\n",
              "      <th>0</th>\n",
              "      <td>0</td>\n",
              "      <td>1</td>\n",
              "    </tr>\n",
              "    <tr>\n",
              "      <th>1</th>\n",
              "      <td>2</td>\n",
              "      <td>1</td>\n",
              "    </tr>\n",
              "    <tr>\n",
              "      <th>2</th>\n",
              "      <td>3</td>\n",
              "      <td>1</td>\n",
              "    </tr>\n",
              "    <tr>\n",
              "      <th>3</th>\n",
              "      <td>9</td>\n",
              "      <td>1</td>\n",
              "    </tr>\n",
              "    <tr>\n",
              "      <th>4</th>\n",
              "      <td>11</td>\n",
              "      <td>1</td>\n",
              "    </tr>\n",
              "    <tr>\n",
              "      <th>5</th>\n",
              "      <td>12</td>\n",
              "      <td>1</td>\n",
              "    </tr>\n",
              "    <tr>\n",
              "      <th>6</th>\n",
              "      <td>21</td>\n",
              "      <td>0</td>\n",
              "    </tr>\n",
              "    <tr>\n",
              "      <th>7</th>\n",
              "      <td>22</td>\n",
              "      <td>0</td>\n",
              "    </tr>\n",
              "    <tr>\n",
              "      <th>8</th>\n",
              "      <td>27</td>\n",
              "      <td>0</td>\n",
              "    </tr>\n",
              "    <tr>\n",
              "      <th>9</th>\n",
              "      <td>29</td>\n",
              "      <td>0</td>\n",
              "    </tr>\n",
              "  </tbody>\n",
              "</table>\n",
              "</div>\n",
              "      <button class=\"colab-df-convert\" onclick=\"convertToInteractive('df-5af8e92c-9b90-4d8c-8b56-8482c90876bc')\"\n",
              "              title=\"Convert this dataframe to an interactive table.\"\n",
              "              style=\"display:none;\">\n",
              "        \n",
              "  <svg xmlns=\"http://www.w3.org/2000/svg\" height=\"24px\"viewBox=\"0 0 24 24\"\n",
              "       width=\"24px\">\n",
              "    <path d=\"M0 0h24v24H0V0z\" fill=\"none\"/>\n",
              "    <path d=\"M18.56 5.44l.94 2.06.94-2.06 2.06-.94-2.06-.94-.94-2.06-.94 2.06-2.06.94zm-11 1L8.5 8.5l.94-2.06 2.06-.94-2.06-.94L8.5 2.5l-.94 2.06-2.06.94zm10 10l.94 2.06.94-2.06 2.06-.94-2.06-.94-.94-2.06-.94 2.06-2.06.94z\"/><path d=\"M17.41 7.96l-1.37-1.37c-.4-.4-.92-.59-1.43-.59-.52 0-1.04.2-1.43.59L10.3 9.45l-7.72 7.72c-.78.78-.78 2.05 0 2.83L4 21.41c.39.39.9.59 1.41.59.51 0 1.02-.2 1.41-.59l7.78-7.78 2.81-2.81c.8-.78.8-2.07 0-2.86zM5.41 20L4 18.59l7.72-7.72 1.47 1.35L5.41 20z\"/>\n",
              "  </svg>\n",
              "      </button>\n",
              "      \n",
              "  <style>\n",
              "    .colab-df-container {\n",
              "      display:flex;\n",
              "      flex-wrap:wrap;\n",
              "      gap: 12px;\n",
              "    }\n",
              "\n",
              "    .colab-df-convert {\n",
              "      background-color: #E8F0FE;\n",
              "      border: none;\n",
              "      border-radius: 50%;\n",
              "      cursor: pointer;\n",
              "      display: none;\n",
              "      fill: #1967D2;\n",
              "      height: 32px;\n",
              "      padding: 0 0 0 0;\n",
              "      width: 32px;\n",
              "    }\n",
              "\n",
              "    .colab-df-convert:hover {\n",
              "      background-color: #E2EBFA;\n",
              "      box-shadow: 0px 1px 2px rgba(60, 64, 67, 0.3), 0px 1px 3px 1px rgba(60, 64, 67, 0.15);\n",
              "      fill: #174EA6;\n",
              "    }\n",
              "\n",
              "    [theme=dark] .colab-df-convert {\n",
              "      background-color: #3B4455;\n",
              "      fill: #D2E3FC;\n",
              "    }\n",
              "\n",
              "    [theme=dark] .colab-df-convert:hover {\n",
              "      background-color: #434B5C;\n",
              "      box-shadow: 0px 1px 3px 1px rgba(0, 0, 0, 0.15);\n",
              "      filter: drop-shadow(0px 1px 2px rgba(0, 0, 0, 0.3));\n",
              "      fill: #FFFFFF;\n",
              "    }\n",
              "  </style>\n",
              "\n",
              "      <script>\n",
              "        const buttonEl =\n",
              "          document.querySelector('#df-5af8e92c-9b90-4d8c-8b56-8482c90876bc button.colab-df-convert');\n",
              "        buttonEl.style.display =\n",
              "          google.colab.kernel.accessAllowed ? 'block' : 'none';\n",
              "\n",
              "        async function convertToInteractive(key) {\n",
              "          const element = document.querySelector('#df-5af8e92c-9b90-4d8c-8b56-8482c90876bc');\n",
              "          const dataTable =\n",
              "            await google.colab.kernel.invokeFunction('convertToInteractive',\n",
              "                                                     [key], {});\n",
              "          if (!dataTable) return;\n",
              "\n",
              "          const docLinkHtml = 'Like what you see? Visit the ' +\n",
              "            '<a target=\"_blank\" href=https://colab.research.google.com/notebooks/data_table.ipynb>data table notebook</a>'\n",
              "            + ' to learn more about interactive tables.';\n",
              "          element.innerHTML = '';\n",
              "          dataTable['output_type'] = 'display_data';\n",
              "          await google.colab.output.renderOutput(dataTable, element);\n",
              "          const docLink = document.createElement('div');\n",
              "          docLink.innerHTML = docLinkHtml;\n",
              "          element.appendChild(docLink);\n",
              "        }\n",
              "      </script>\n",
              "    </div>\n",
              "  </div>\n",
              "  "
            ]
          },
          "metadata": {},
          "execution_count": 30
        }
      ],
      "source": [
        "df_sub['target'] = test_pred\n",
        "df_sub.head(10)"
      ]
    },
    {
      "cell_type": "markdown",
      "source": [
        "Ghi kết quả vào file rồi submit lên Kaggle"
      ],
      "metadata": {
        "id": "d38PAgEGukIW"
      }
    },
    {
      "cell_type": "code",
      "execution_count": null,
      "metadata": {
        "id": "yr1yZifP4ivY"
      },
      "outputs": [],
      "source": [
        "df_sub.to_csv(\"/content/drive/MyDrive/dataNLP/bert_submission.csv\", index=False, header=True)"
      ]
    },
    {
      "cell_type": "markdown",
      "source": [
        "#### Ta được kết quả khi submit là 0.81642"
      ],
      "metadata": {
        "id": "N5SQ9U_WvDLV"
      }
    },
    {
      "cell_type": "markdown",
      "source": [
        "#### Nhận xét và hướng phát triển"
      ],
      "metadata": {
        "id": "M__22nagNI1u"
      }
    },
    {
      "cell_type": "markdown",
      "source": [
        "Đây là một kết quả khá tốt khi nó dự đoán đúng trên 80%, tuy nhiên, chúng ta vẫn có thể cái thiện thêm kết quả này bằng các cách như thực hiện với model BERT có kiến trúc lớn hơn hoặc điều chỉnh các hyperparameter sao cho phù hợp."
      ],
      "metadata": {
        "id": "qzQJvqOPvMv5"
      }
    },
    {
      "cell_type": "markdown",
      "source": [
        "# Kết quả  khi nộp lên Kaggle.\n",
        "\n",
        "Khi nộp file *bert_submission.csv* lên Kaggle thì nhóm đạt Scrore là 0.81642 và đứng hạng thứ 320 trong cuộc thi."
      ],
      "metadata": {
        "id": "ZRTPkZa8wq2D"
      }
    },
    {
      "cell_type": "markdown",
      "source": [
        "![356968080_6542171095821225_654763335111414567_n.png](data:image/png;base64,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)\n"
      ],
      "metadata": {
        "id": "fU760IT9vw75"
      }
    },
    {
      "cell_type": "markdown",
      "source": [
        "![357317593_291039223324575_5847564235350079774_n.png](data:image/png;base64,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)"
      ],
      "metadata": {
        "id": "GY0gByBIwjfj"
      }
    }
  ],
  "metadata": {
    "accelerator": "GPU",
    "colab": {
      "provenance": [],
      "gpuType": "T4"
    },
    "kernelspec": {
      "display_name": "Python 3",
      "name": "python3"
    },
    "language_info": {
      "name": "python"
    }
  },
  "nbformat": 4,
  "nbformat_minor": 0
}